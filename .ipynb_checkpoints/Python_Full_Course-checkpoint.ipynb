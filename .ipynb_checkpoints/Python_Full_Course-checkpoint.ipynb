{
 "cells": [
  {
   "cell_type": "markdown",
   "id": "6e84052d-0d02-4324-a0ba-c88cab71f44f",
   "metadata": {},
   "source": [
    "# Python Full Course"
   ]
  },
  {
   "cell_type": "markdown",
   "id": "69432820-c76b-4f42-8a7f-c1533d781871",
   "metadata": {},
   "source": [
    "## Inizio"
   ]
  },
  {
   "cell_type": "code",
   "execution_count": 20,
   "id": "1b84ed0b-7b3e-40f9-a4e0-913125f7ca4f",
   "metadata": {},
   "outputs": [
    {
     "name": "stdout",
     "output_type": "stream",
     "text": [
      "Nicolò Favagrossa\n",
      "The history saving thread hit an unexpected error (OperationalError('attempt to write a readonly database')).History will not be written to the database.\n"
     ]
    }
   ],
   "source": [
    "print(\"Nicolò Favagrossa\")"
   ]
  },
  {
   "cell_type": "code",
   "execution_count": 21,
   "id": "2d38436f-ab21-45b7-a08f-38f1245b6d50",
   "metadata": {},
   "outputs": [
    {
     "name": "stdout",
     "output_type": "stream",
     "text": [
      "o----\n",
      " ||||\n"
     ]
    }
   ],
   "source": [
    "print('o----')\n",
    "print (' ||||')"
   ]
  },
  {
   "cell_type": "code",
   "execution_count": 22,
   "id": "0dafa546-e257-4636-a795-88491572d51b",
   "metadata": {},
   "outputs": [
    {
     "name": "stdout",
     "output_type": "stream",
     "text": [
      "**********\n"
     ]
    }
   ],
   "source": [
    "print('*'*10)"
   ]
  },
  {
   "cell_type": "markdown",
   "id": "663f0946-92cd-421a-a615-665df813fc16",
   "metadata": {},
   "source": [
    "## Variabili"
   ]
  },
  {
   "cell_type": "code",
   "execution_count": 23,
   "id": "ac9c3236-f4d3-4280-9061-137390827105",
   "metadata": {},
   "outputs": [],
   "source": [
    "price = 10"
   ]
  },
  {
   "cell_type": "code",
   "execution_count": 24,
   "id": "d9f94fbe-daf5-4718-9446-1c6618364a09",
   "metadata": {},
   "outputs": [
    {
     "name": "stdout",
     "output_type": "stream",
     "text": [
      "10\n"
     ]
    }
   ],
   "source": [
    "print(price)"
   ]
  },
  {
   "cell_type": "code",
   "execution_count": 16,
   "id": "65ed93a3-c171-477c-941d-fd3d41807722",
   "metadata": {},
   "outputs": [
    {
     "name": "stdin",
     "output_type": "stream",
     "text": [
      "Anno di nascita:  2001\n"
     ]
    },
    {
     "name": "stdout",
     "output_type": "stream",
     "text": [
      "<class 'str'>\n",
      "24\n"
     ]
    }
   ],
   "source": [
    "anno_di_nascita = input('Anno di nascita: ')\n",
    "print(type(anno_di_nascita))\n",
    "anni = 2025 - int(anno_di_nascita)\n",
    "print(anni)"
   ]
  },
  {
   "cell_type": "code",
   "execution_count": 25,
   "id": "7b8f7cc6-b1c4-40ee-8b67-9a60c347c5bc",
   "metadata": {},
   "outputs": [
    {
     "name": "stdin",
     "output_type": "stream",
     "text": [
      "Ciao, quanto pesi (in kg)? 70\n"
     ]
    },
    {
     "name": "stdout",
     "output_type": "stream",
     "text": [
      "Perfetto, quindi pesi 70000g\n"
     ]
    }
   ],
   "source": [
    "peso_kg = input('Ciao, quanto pesi (in kg)?' )\n",
    "peso_g = int(peso_kg)*1000\n",
    "print('Perfetto, quindi pesi ' + str(peso_g) + 'g' )"
   ]
  },
  {
   "cell_type": "markdown",
   "id": "ff4e648e-35e9-48ef-85f1-a1567a27d558",
   "metadata": {},
   "source": [
    "## Stringe"
   ]
  },
  {
   "cell_type": "code",
   "execution_count": 26,
   "id": "3180d260-108d-4f2e-ad1f-d0ea71b23d46",
   "metadata": {},
   "outputs": [
    {
     "name": "stdout",
     "output_type": "stream",
     "text": [
      " \n",
      "Ciao come stai?\n",
      "\n",
      "io bene e tu?\n",
      "\n",
      "tutto bene grazie.\n",
      "\n"
     ]
    }
   ],
   "source": [
    "multi_line_string = ''' \n",
    "Ciao come stai?\n",
    "\n",
    "io bene e tu?\n",
    "\n",
    "tutto bene grazie.\n",
    "'''\n",
    "\n",
    "print(multi_line_string)"
   ]
  },
  {
   "cell_type": "code",
   "execution_count": 27,
   "id": "17a3f766-b909-4508-b8c2-dec27e254e4f",
   "metadata": {},
   "outputs": [
    {
     "name": "stdout",
     "output_type": "stream",
     "text": [
      "o\n"
     ]
    }
   ],
   "source": [
    "stringa = 'Ciao come stai?'\n",
    "print(stringa[3])"
   ]
  },
  {
   "cell_type": "code",
   "execution_count": 30,
   "id": "86ca83e0-4486-426f-960e-9fd57f7aab8b",
   "metadata": {},
   "outputs": [
    {
     "name": "stdout",
     "output_type": "stream",
     "text": [
      "Ciao come stai?\n"
     ]
    }
   ],
   "source": [
    "stringa = 'Ciao come stai?'\n",
    "print(stringa[0:])"
   ]
  },
  {
   "cell_type": "code",
   "execution_count": 31,
   "id": "12f56e70-04b3-4175-9d1a-473dc3638ae8",
   "metadata": {},
   "outputs": [
    {
     "name": "stdout",
     "output_type": "stream",
     "text": [
      "come stai?\n"
     ]
    }
   ],
   "source": [
    "stringa = 'Ciao come stai?'\n",
    "print(stringa[5:])"
   ]
  },
  {
   "cell_type": "code",
   "execution_count": 33,
   "id": "321cdd11-48b2-4b12-afe1-82b6114ef8ce",
   "metadata": {},
   "outputs": [
    {
     "name": "stdout",
     "output_type": "stream",
     "text": [
      "iao come stai?\n"
     ]
    }
   ],
   "source": [
    "stringa = 'Ciao come stai?'\n",
    "altra = stringa[1:]\n",
    "print(altra)"
   ]
  },
  {
   "cell_type": "code",
   "execution_count": 34,
   "id": "fc50c3a9-92ab-4f65-b972-4448797f471c",
   "metadata": {},
   "outputs": [
    {
     "name": "stdout",
     "output_type": "stream",
     "text": [
      "icol\n"
     ]
    }
   ],
   "source": [
    "nome = 'Nicolò'\n",
    "print(nome[1:-1])"
   ]
  },
  {
   "cell_type": "code",
   "execution_count": 35,
   "id": "11265215-a98f-4bd6-b266-272167a0fce1",
   "metadata": {},
   "outputs": [
    {
     "name": "stdout",
     "output_type": "stream",
     "text": [
      "Nicolò [Favagrossa] è un grande!\n"
     ]
    }
   ],
   "source": [
    "nome = 'Nicolò'\n",
    "cognome = 'Favagrossa'\n",
    "messaggio = nome + ' [' + cognome + '] è un grande!'\n",
    "print(messaggio)"
   ]
  },
  {
   "cell_type": "code",
   "execution_count": 37,
   "id": "b23be6f7-e35a-4be6-adb1-4c4430d048ac",
   "metadata": {},
   "outputs": [
    {
     "name": "stdout",
     "output_type": "stream",
     "text": [
      "Nicolò [Favagrossa] è un grande!\n",
      "Nicolò [Favagrossa] è un grande!\n"
     ]
    }
   ],
   "source": [
    "nome = 'Nicolò'\n",
    "cognome = 'Favagrossa'\n",
    "messaggio = nome + ' [' + cognome + '] è un grande!'\n",
    "msg = f'{nome} [{cognome}] è un grande!'\n",
    "print(messaggio)\n",
    "print(msg)"
   ]
  },
  {
   "cell_type": "code",
   "execution_count": 38,
   "id": "0e5d668f-04cb-4801-b845-edb03ff2edb7",
   "metadata": {},
   "outputs": [
    {
     "name": "stdout",
     "output_type": "stream",
     "text": [
      "6\n"
     ]
    }
   ],
   "source": [
    "nome = 'Nicolò'\n",
    "print(len(nome))"
   ]
  },
  {
   "cell_type": "code",
   "execution_count": 40,
   "id": "f8343dc1-23d0-4b1e-a64c-fc54a5e1172e",
   "metadata": {},
   "outputs": [
    {
     "name": "stdout",
     "output_type": "stream",
     "text": [
      "6\n",
      "NICOLÒ\n"
     ]
    }
   ],
   "source": [
    "nome = 'Nicolò'\n",
    "print(len(nome))\n",
    "print(nome.upper())"
   ]
  },
  {
   "cell_type": "code",
   "execution_count": 42,
   "id": "7934c5aa-8850-4f13-b3c6-8c1b1e15615b",
   "metadata": {},
   "outputs": [
    {
     "name": "stdout",
     "output_type": "stream",
     "text": [
      "6\n",
      "NICOLÒ\n",
      "nicolò\n"
     ]
    }
   ],
   "source": [
    "nome = 'Nicolò'\n",
    "print(len(nome))\n",
    "print(nome.upper())\n",
    "print(nome.lower())"
   ]
  },
  {
   "cell_type": "code",
   "execution_count": 44,
   "id": "397623b5-e3b8-45ed-89e9-86f27999cabf",
   "metadata": {},
   "outputs": [
    {
     "name": "stdout",
     "output_type": "stream",
     "text": [
      "6\n",
      "NICOLÒ\n",
      "nicolò\n",
      "0\n"
     ]
    }
   ],
   "source": [
    "nome = 'Nicolò'\n",
    "print(len(nome))\n",
    "print(nome.upper())\n",
    "print(nome.lower())\n",
    "print(nome.find('N'))"
   ]
  },
  {
   "cell_type": "code",
   "execution_count": 45,
   "id": "2f8d490d-af25-4424-b867-eaa89f432965",
   "metadata": {},
   "outputs": [
    {
     "name": "stdout",
     "output_type": "stream",
     "text": [
      "6\n",
      "NICOLÒ\n",
      "nicolò\n",
      "0\n",
      "Nicolò è un beginner di python ma un ne sa tanto di c++\n"
     ]
    }
   ],
   "source": [
    "nome = 'Nicolò'\n",
    "stringa = nome + ' è un beginner di python ma un esperto di c++'\n",
    "print(len(nome))\n",
    "print(nome.upper())\n",
    "print(nome.lower())\n",
    "print(nome.find('N'))\n",
    "print(stringa.replace('esperto', 'ne sa tanto'))"
   ]
  },
  {
   "cell_type": "code",
   "execution_count": 48,
   "id": "9835daa2-9083-4071-90c3-9f5db15d51de",
   "metadata": {},
   "outputs": [
    {
     "name": "stdout",
     "output_type": "stream",
     "text": [
      "True\n",
      "6\n",
      "NICOLÒ\n",
      "nicolò\n",
      "0\n",
      "Nicolò è un beginner di python ma un ne sa tanto di c++\n",
      "True\n",
      "Nicolò È Un Beginner Di Python Ma Un Esperto Di C++\n"
     ]
    }
   ],
   "source": [
    "nome = 'Nicolò'\n",
    "stringa = nome + ' è un beginner di python ma un esperto di c++'\n",
    "print('esperto' in stringa)\n",
    "print(len(nome))\n",
    "print(nome.upper())\n",
    "print(nome.lower())\n",
    "print(nome.find('N'))\n",
    "print(stringa.replace('esperto', 'ne sa tanto'))\n",
    "print('esperto' in stringa)\n",
    "print(stringa.title())"
   ]
  },
  {
   "cell_type": "code",
   "execution_count": 49,
   "id": "9793da0e-b2e5-4880-96c1-ac16e8fd051f",
   "metadata": {},
   "outputs": [
    {
     "name": "stdout",
     "output_type": "stream",
     "text": [
      "2.9\n",
      "3\n"
     ]
    }
   ],
   "source": [
    "import math\n",
    "x = 2.9\n",
    "print(abs(-x))\n",
    "print(math.ceil(2.9))"
   ]
  },
  {
   "cell_type": "code",
   "execution_count": 52,
   "id": "9af92b54-7e0f-4f0d-a259-8f67ff0e6599",
   "metadata": {},
   "outputs": [
    {
     "name": "stdout",
     "output_type": "stream",
     "text": [
      "goditi la giornata\n"
     ]
    }
   ],
   "source": [
    "is_hot = False\n",
    "if is_hot:\n",
    "    print(\"è una giornata calda\")\n",
    "print(\"goditi la giornata\")"
   ]
  },
  {
   "cell_type": "code",
   "execution_count": 56,
   "id": "caedc540-d18b-43a6-a8d3-431058cbd50c",
   "metadata": {},
   "outputs": [
    {
     "name": "stdout",
     "output_type": "stream",
     "text": [
      "Down payment: $100000.0\n"
     ]
    }
   ],
   "source": [
    "price = 1000000\n",
    "has_good_credit = True\n",
    "\n",
    "if has_good_credit:\n",
    "    down_payment = 0.1 * price\n",
    "else:\n",
    "    down_payment = 0.2 * price\n",
    "print(f\"Down payment: ${down_payment}\")"
   ]
  },
  {
   "cell_type": "code",
   "execution_count": 59,
   "id": "29446c40-2a04-49d2-b3b3-096491f8aa5c",
   "metadata": {},
   "outputs": [],
   "source": [
    "has_hight_income = False\n",
    "has_good_credit = False\n",
    "\n",
    "if has_good_credit or has_hight_income:\n",
    "    print(\"Bravissimo\")"
   ]
  },
  {
   "cell_type": "code",
   "execution_count": 60,
   "id": "be20a426-c543-45bf-8dd0-3c4802f08d46",
   "metadata": {},
   "outputs": [
    {
     "name": "stdin",
     "output_type": "stream",
     "text": [
      "Temperatura  46\n"
     ]
    },
    {
     "name": "stdout",
     "output_type": "stream",
     "text": [
      "Fa caldo!\n"
     ]
    }
   ],
   "source": [
    "temperatura = input(\"Temperatura \")\n",
    "if int(temperatura) > 30:\n",
    "    print(\"Fa caldo!\")\n",
    "else:\n",
    "    print(\"Si sta bene\")"
   ]
  },
  {
   "cell_type": "code",
   "execution_count": 64,
   "id": "77c160f8-3b34-45b0-8538-e01101f105ab",
   "metadata": {},
   "outputs": [
    {
     "name": "stdin",
     "output_type": "stream",
     "text": [
      "Inserire il tuo nome:  s\n"
     ]
    },
    {
     "name": "stdout",
     "output_type": "stream",
     "text": [
      "Inserire un altro nome!\n"
     ]
    }
   ],
   "source": [
    "name = input(\"Inserire il tuo nome: \")\n",
    "if len(name) < 3 or len(name) >= 50:\n",
    "    print(\"Inserire un altro nome!\")\n",
    "else:\n",
    "    print(\"Il nome va benissimo\")"
   ]
  },
  {
   "cell_type": "code",
   "execution_count": 72,
   "id": "6ad8f769-d54e-4157-8f4f-2a6143fae960",
   "metadata": {},
   "outputs": [
    {
     "name": "stdin",
     "output_type": "stream",
     "text": [
      "Peso: 70\n",
      "(L) o (K)g:  i\n"
     ]
    },
    {
     "name": "stdout",
     "output_type": "stream",
     "text": [
      "Attenzione: inserire unità di misura supportata!\n"
     ]
    }
   ],
   "source": [
    "peso = input('Peso:' )\n",
    "unit = input('(L) o (K)g: ')\n",
    "if unit.upper() == 'L':\n",
    "    peso = float(peso)/2.205\n",
    "    print(f\"Il tuo peso in Kg è di: {peso}Kg\")\n",
    "if unit.upper() == 'K':\n",
    "    peso = float(peso)*2.205\n",
    "    print(f\"Il tuo peso in pounds è di: {peso}L\")\n",
    "else:\n",
    "    print(\"Attenzione: inserire unità di misura supportata!\")"
   ]
  },
  {
   "cell_type": "code",
   "execution_count": 73,
   "id": "1ee4ba19-2559-4624-9f8e-8ee7c452295b",
   "metadata": {},
   "outputs": [
    {
     "name": "stdout",
     "output_type": "stream",
     "text": [
      "1\n",
      "2\n",
      "3\n",
      "4\n",
      "5\n",
      "Done\n"
     ]
    }
   ],
   "source": [
    "i = 1\n",
    "while i <= 5:\n",
    "    print(i)\n",
    "    i = i+1\n",
    "print(\"Done\")"
   ]
  },
  {
   "cell_type": "code",
   "execution_count": 74,
   "id": "2ed305cb-b304-48e7-a19a-a8d3eb88d1b9",
   "metadata": {},
   "outputs": [
    {
     "name": "stdout",
     "output_type": "stream",
     "text": [
      "*\n",
      "**\n",
      "***\n",
      "****\n",
      "*****\n",
      "Done\n"
     ]
    }
   ],
   "source": [
    "i = 1\n",
    "while i <= 5:\n",
    "    print('*'*i)\n",
    "    i = i+1\n",
    "print(\"Done\")"
   ]
  },
  {
   "cell_type": "code",
   "execution_count": 77,
   "id": "77e97e9d-1eab-4b7d-9031-b4aba6827637",
   "metadata": {},
   "outputs": [
    {
     "name": "stdin",
     "output_type": "stream",
     "text": [
      "Guess: 1\n",
      "Guess: 2\n",
      "Guess: \n",
      "Guess: 3\n",
      "Guess: 9\n"
     ]
    },
    {
     "name": "stdout",
     "output_type": "stream",
     "text": [
      "Bravo!\n"
     ]
    }
   ],
   "source": [
    "guess = 0\n",
    "while guess != '9':\n",
    "    guess = input('Guess:' )\n",
    "print('Bravo!')"
   ]
  },
  {
   "cell_type": "code",
   "execution_count": 86,
   "id": "611e65fd-a7e5-4ced-9b64-8b80acaee088",
   "metadata": {},
   "outputs": [
    {
     "name": "stdin",
     "output_type": "stream",
     "text": [
      ">  start\n"
     ]
    },
    {
     "name": "stdout",
     "output_type": "stream",
     "text": [
      "Car started...\n"
     ]
    },
    {
     "name": "stdin",
     "output_type": "stream",
     "text": [
      ">  quit\n"
     ]
    },
    {
     "name": "stdout",
     "output_type": "stream",
     "text": [
      "I don't understand, sorry!\n"
     ]
    }
   ],
   "source": [
    "command = \"\"\n",
    "while command != \"quit\":\n",
    "    command = input(\"> \").lower()\n",
    "    if command == \"start\":\n",
    "        print(\"Car started...\")\n",
    "    elif command == \"stop\":\n",
    "        print(\"Car stopped.\")\n",
    "    elif command == \"help\":\n",
    "        print('''\n",
    "        start - to start the car\n",
    "        stop - to stop the car\n",
    "        quit - to quit\n",
    "        ''')\n",
    "    else:\n",
    "        print(\"I don't understand, sorry!\")"
   ]
  },
  {
   "cell_type": "code",
   "execution_count": 90,
   "id": "028efa63-8d38-4367-b6d0-783bb50a7c0c",
   "metadata": {},
   "outputs": [
    {
     "name": "stdout",
     "output_type": "stream",
     "text": [
      "5\n",
      "7\n",
      "9\n"
     ]
    }
   ],
   "source": [
    "for item in range(5, 10, 2):\n",
    "    print(item)"
   ]
  },
  {
   "cell_type": "code",
   "execution_count": 91,
   "id": "e20676f0-6f23-467a-8070-3048ed5733b3",
   "metadata": {},
   "outputs": [
    {
     "name": "stdout",
     "output_type": "stream",
     "text": [
      "Total: 60$\n"
     ]
    }
   ],
   "source": [
    "prices = [10, 20, 30]\n",
    "total = 0\n",
    "for price in prices:\n",
    "    total +=price\n",
    "print(f\"Total: {total}$\")"
   ]
  },
  {
   "cell_type": "code",
   "execution_count": 92,
   "id": "dc1a0dff-d31f-495f-b930-5593a8aaa83b",
   "metadata": {},
   "outputs": [
    {
     "name": "stdout",
     "output_type": "stream",
     "text": [
      "(0, 0)\n",
      "(0, 1)\n",
      "(0, 2)\n",
      "(1, 0)\n",
      "(1, 1)\n",
      "(1, 2)\n",
      "(2, 0)\n",
      "(2, 1)\n",
      "(2, 2)\n",
      "(3, 0)\n",
      "(3, 1)\n",
      "(3, 2)\n"
     ]
    }
   ],
   "source": [
    "for x in range(4):\n",
    "    for y in range(3):\n",
    "        print(f'({x}, {y})')"
   ]
  },
  {
   "cell_type": "code",
   "execution_count": 93,
   "id": "ff0fe91c-13fd-43e6-a893-983f34c64be3",
   "metadata": {},
   "outputs": [
    {
     "name": "stdout",
     "output_type": "stream",
     "text": [
      "xxxxx\n",
      "xx\n",
      "xxxxx\n",
      "xx\n",
      "xx\n"
     ]
    }
   ],
   "source": [
    "numbers = [5, 2, 5, 2, 2]\n",
    "for i in numbers:\n",
    "    print(\"x\"*numbers[i])"
   ]
  },
  {
   "cell_type": "markdown",
   "id": "59dccf59-06ff-4231-a467-a893329c08dc",
   "metadata": {},
   "source": [
    "## 2:02:39 - liste 2D o anche dette matrici"
   ]
  },
  {
   "cell_type": "code",
   "execution_count": 1,
   "id": "b1f51680-5065-4e07-b32c-6db22c4baf91",
   "metadata": {},
   "outputs": [
    {
     "name": "stdout",
     "output_type": "stream",
     "text": [
      "[[1, 2, 3], [4, 5, 6], [7, 8, 9]]\n"
     ]
    }
   ],
   "source": [
    "matrix = [\n",
    "    [1, 2, 3],\n",
    "    [4, 5, 6],\n",
    "    [7, 8, 9]\n",
    "]\n",
    "print(matrix)"
   ]
  },
  {
   "cell_type": "code",
   "execution_count": 2,
   "id": "45709559-3704-428b-9331-48e3d3da0f93",
   "metadata": {},
   "outputs": [
    {
     "name": "stdout",
     "output_type": "stream",
     "text": [
      "[1, 2, 3]\n"
     ]
    }
   ],
   "source": [
    "print(matrix[0])"
   ]
  },
  {
   "cell_type": "code",
   "execution_count": 3,
   "id": "6f8963b2-b5c6-4116-991a-0eae8ee4b9d2",
   "metadata": {},
   "outputs": [
    {
     "name": "stdout",
     "output_type": "stream",
     "text": [
      "1\n",
      "2\n",
      "3\n",
      "4\n",
      "5\n",
      "6\n",
      "7\n",
      "8\n",
      "9\n"
     ]
    }
   ],
   "source": [
    "for row in matrix:\n",
    "    for item in row:\n",
    "        print(item)"
   ]
  },
  {
   "cell_type": "code",
   "execution_count": 8,
   "id": "983fcdee-78ec-4459-84f9-a182c345cfc4",
   "metadata": {},
   "outputs": [
    {
     "name": "stdout",
     "output_type": "stream",
     "text": [
      "[6, 1, 4, 6, 8, 9, 10, 54]\n"
     ]
    }
   ],
   "source": [
    "numbers = [1, 4, 6, 8, 9, 10, 54]\n",
    "numbers.insert(0, 6)\n",
    "print(numbers)"
   ]
  },
  {
   "cell_type": "code",
   "execution_count": 9,
   "id": "20d9b827-2e2e-4a9b-8e91-60c39ada7184",
   "metadata": {},
   "outputs": [
    {
     "name": "stdout",
     "output_type": "stream",
     "text": [
      "False\n"
     ]
    }
   ],
   "source": [
    "print(50 in numbers)"
   ]
  },
  {
   "cell_type": "code",
   "execution_count": 10,
   "id": "b3588b50-9e54-4bc6-9b3c-841626960972",
   "metadata": {},
   "outputs": [
    {
     "name": "stdout",
     "output_type": "stream",
     "text": [
      "[1, 4, 6, 6, 8, 9, 10, 54]\n"
     ]
    }
   ],
   "source": [
    "numbers.sort()\n",
    "print(numbers)"
   ]
  },
  {
   "cell_type": "code",
   "execution_count": 11,
   "id": "a2295fc2-6092-4c54-b6c7-ad2ac524dec2",
   "metadata": {},
   "outputs": [
    {
     "name": "stdout",
     "output_type": "stream",
     "text": [
      "[54, 10, 9, 8, 6, 6, 4, 1]\n"
     ]
    }
   ],
   "source": [
    "numbers.reverse()\n",
    "print(numbers)"
   ]
  },
  {
   "cell_type": "code",
   "execution_count": 14,
   "id": "af72c789-680e-41e4-9cbc-a916e278224d",
   "metadata": {},
   "outputs": [
    {
     "name": "stdout",
     "output_type": "stream",
     "text": [
      "[54, 10, 9, 8, 6, 6, 4, 1]\n",
      "[54, 10, 9, 8, 6, 6, 4, 1, 123]\n"
     ]
    }
   ],
   "source": [
    "numbers2 = numbers.copy()\n",
    "print(numbers2)\n",
    "numbers.append(123)\n",
    "print(numbers)"
   ]
  },
  {
   "cell_type": "markdown",
   "id": "cb20d2bc-01b7-4a16-b885-747364f3d277",
   "metadata": {},
   "source": [
    "## Programma che rimuove dublicati da una lista"
   ]
  },
  {
   "cell_type": "code",
   "execution_count": 17,
   "id": "f4cd662e-9799-47a0-ad14-bdc8e20186c7",
   "metadata": {},
   "outputs": [
    {
     "name": "stdout",
     "output_type": "stream",
     "text": [
      "[2, 4, 6, 3, 1]\n"
     ]
    }
   ],
   "source": [
    "numbers = [2, 2, 4, 6, 3, 4, 6, 1]\n",
    "uniques = []\n",
    "for number in numbers:\n",
    "    if number not in uniques:\n",
    "        uniques.append(number)\n",
    "print(uniques)"
   ]
  },
  {
   "cell_type": "code",
   "execution_count": 18,
   "id": "15370876-09a4-48a4-bc0d-fcb6f3d431b9",
   "metadata": {},
   "outputs": [
    {
     "name": "stdout",
     "output_type": "stream",
     "text": [
      "1\n"
     ]
    }
   ],
   "source": [
    "numbers = (1, 2, 3)\n",
    "print(numbers[0])"
   ]
  },
  {
   "cell_type": "code",
   "execution_count": 19,
   "id": "5ab5e09e-a1e7-4b42-8a88-66e4abed3b73",
   "metadata": {},
   "outputs": [],
   "source": [
    "coordinates = (1, 2, 3)\n",
    "x, y, z = coordinates"
   ]
  },
  {
   "cell_type": "code",
   "execution_count": 20,
   "id": "b66c3d31-1cf3-4c09-9d79-2860c8edba25",
   "metadata": {},
   "outputs": [
    {
     "name": "stdout",
     "output_type": "stream",
     "text": [
      "6\n"
     ]
    }
   ],
   "source": [
    "print(x*y*z)"
   ]
  },
  {
   "cell_type": "code",
   "execution_count": 22,
   "id": "99566c73-4c64-4dca-a5e6-be5c0b84d451",
   "metadata": {},
   "outputs": [
    {
     "name": "stdout",
     "output_type": "stream",
     "text": [
      "Nicolò Favagrossa\n"
     ]
    }
   ],
   "source": [
    "costumer = {\n",
    "    \"name\": \"Nicolò Favagrossa\",\n",
    "    \"età\": 23,\n",
    "    \"verificato\": True\n",
    "}\n",
    "print(costumer.get(\"name\"))"
   ]
  },
  {
   "cell_type": "code",
   "execution_count": null,
   "id": "cd4a9103-0ced-478a-8285-cf4bf989f369",
   "metadata": {},
   "outputs": [],
   "source": []
  },
  {
   "cell_type": "code",
   "execution_count": 31,
   "id": "11e02cef-0b48-4cfd-892a-5678016d0827",
   "metadata": {},
   "outputs": [
    {
     "name": "stdin",
     "output_type": "stream",
     "text": [
      "Telefono:  1234\n"
     ]
    },
    {
     "name": "stdout",
     "output_type": "stream",
     "text": [
      "uno! due! tre! quattro! \n"
     ]
    }
   ],
   "source": [
    "phone = input(\"Telefono: \")\n",
    "numbers = {\n",
    "    \"1\": \"uno\",\n",
    "    \"2\": \"due\",\n",
    "    \"3\": \"tre\",\n",
    "    \"4\": \"quattro\",\n",
    "    \"5\": \"cinque\",\n",
    "    \"6\": \"sei\"\n",
    "}\n",
    "output = \"\"\n",
    "for ch in phone:\n",
    "    output += numbers.get(ch, \"!\")+ \"! \"\n",
    "print(output)"
   ]
  },
  {
   "cell_type": "code",
   "execution_count": 34,
   "id": "79ce663a-a67d-47db-b591-ad55ff276812",
   "metadata": {},
   "outputs": [
    {
     "name": "stdin",
     "output_type": "stream",
     "text": [
      "> Ciao mi chiamo Nicolò :)\n"
     ]
    },
    {
     "name": "stdout",
     "output_type": "stream",
     "text": [
      "Ciao mi chiamo Nicolò ahahahha \n"
     ]
    }
   ],
   "source": [
    "message = input(\">\")\n",
    "words = message.split(' ')\n",
    "emojis = {\n",
    "    \":)\": \"ahahahha\",\n",
    "    \":(\": \"not ahahaha\"\n",
    "}\n",
    "output = \"\"\n",
    "for word in words:\n",
    "    output += emojis.get(word, word) + \" \" \n",
    "print(output)\n"
   ]
  },
  {
   "cell_type": "code",
   "execution_count": 36,
   "id": "1767e742-6ee6-4e57-bb3c-cc1f40959c66",
   "metadata": {},
   "outputs": [
    {
     "name": "stdout",
     "output_type": "stream",
     "text": [
      "Start\n",
      "Ciao!Nicolò\n",
      "Benvenuto!\n",
      "Finish\n"
     ]
    }
   ],
   "source": [
    "def greet_user(name):\n",
    "    print('Ciao!' + name)\n",
    "    print('Benvenuto!')\n",
    "\n",
    "\n",
    "print(\"Start\")\n",
    "greet_user(\"Nicolò\")\n",
    "print(\"Finish\")"
   ]
  },
  {
   "cell_type": "code",
   "execution_count": 37,
   "id": "323a9f50-ed50-47e8-94f1-57363cd9cc51",
   "metadata": {},
   "outputs": [
    {
     "name": "stdout",
     "output_type": "stream",
     "text": [
      "Start\n",
      "Hi Jhon Smith!\n",
      "Welcome aboard\n",
      "Finish\n"
     ]
    }
   ],
   "source": [
    "def greet_user(first_name, last_name):\n",
    "    print(f'Hi {first_name} {last_name}!')\n",
    "    print(\"Welcome aboard\")\n",
    "\n",
    "\n",
    "print(\"Start\")\n",
    "greet_user(last_name=\"Smith\", first_name=\"Jhon\")\n",
    "print(\"Finish\")"
   ]
  },
  {
   "cell_type": "code",
   "execution_count": 38,
   "id": "6bd1dca2-3e82-472e-9935-885b0e649b34",
   "metadata": {},
   "outputs": [
    {
     "name": "stdout",
     "output_type": "stream",
     "text": [
      "9\n"
     ]
    }
   ],
   "source": [
    "def square(number):\n",
    "    return number * number\n",
    "\n",
    "\n",
    "print(square(3))"
   ]
  },
  {
   "cell_type": "code",
   "execution_count": 39,
   "id": "e096974a-b89c-4366-8c84-87618dc9a025",
   "metadata": {},
   "outputs": [
    {
     "name": "stdin",
     "output_type": "stream",
     "text": [
      "Age:  20\n"
     ]
    },
    {
     "name": "stdout",
     "output_type": "stream",
     "text": [
      "20\n"
     ]
    }
   ],
   "source": [
    "age = int(input('Age: '))\n",
    "print(age)"
   ]
  },
  {
   "cell_type": "code",
   "execution_count": 41,
   "id": "ca968d20-957e-4c68-ba3f-67cb192486f4",
   "metadata": {},
   "outputs": [
    {
     "name": "stdin",
     "output_type": "stream",
     "text": [
      "Age:  0\n"
     ]
    },
    {
     "name": "stdout",
     "output_type": "stream",
     "text": [
      "Age cannot be diveded by 0\n"
     ]
    }
   ],
   "source": [
    "try:\n",
    "    age = int(input('Age: '))\n",
    "    income = 2000\n",
    "    risk = income / age\n",
    "    print(age)\n",
    "except ZeroDivisionError:\n",
    "    print('Age cannot be diveded by 0')\n",
    "except ValueError:\n",
    "    print('Invalid value')\n"
   ]
  },
  {
   "cell_type": "code",
   "execution_count": 42,
   "id": "daaa093b-bc73-4f18-b8e9-145b8315685a",
   "metadata": {},
   "outputs": [
    {
     "name": "stdout",
     "output_type": "stream",
     "text": [
      "draw\n"
     ]
    }
   ],
   "source": [
    "class Point:\n",
    "    def move(self):\n",
    "        print(\"move\")\n",
    "\n",
    "    def draw(self):\n",
    "        print(\"draw\")\n",
    "\n",
    "\n",
    "point1 = Point()\n",
    "point1.draw()"
   ]
  },
  {
   "cell_type": "code",
   "execution_count": 43,
   "id": "7a53cad7-87d0-49f0-96db-507c6a17cd2c",
   "metadata": {},
   "outputs": [
    {
     "name": "stdout",
     "output_type": "stream",
     "text": [
      "10\n"
     ]
    }
   ],
   "source": [
    "class Point:\n",
    "    def __init__(self, x, y):\n",
    "        self.x = x\n",
    "        self.y = y\n",
    "        \n",
    "    def move(self):\n",
    "        print(\"move\")\n",
    "\n",
    "    def draw(self):\n",
    "        print(\"draw\")\n",
    "\n",
    "\n",
    "point = Point(10, 20)\n",
    "print(point.x)"
   ]
  },
  {
   "cell_type": "code",
   "execution_count": 49,
   "id": "c4f007a8-a26a-446d-9155-3aa119e20d09",
   "metadata": {},
   "outputs": [
    {
     "name": "stdout",
     "output_type": "stream",
     "text": [
      "Ciao, sono Nicolò Favagrossa\n"
     ]
    }
   ],
   "source": [
    "class Persona:\n",
    "    def __init__(self, nome, cognome):\n",
    "        self.nome = nome\n",
    "        self.cognome = cognome\n",
    "\n",
    "    def parla(self):\n",
    "        print(f'Ciao, sono {self.nome} {self.cognome}')\n",
    "\n",
    "\n",
    "persona1 = Persona(\"Nicolò\", \"Favagrossa\")\n",
    "persona1.parla()"
   ]
  },
  {
   "cell_type": "code",
   "execution_count": 51,
   "id": "f9fa148b-2836-481c-977a-588e63021c3b",
   "metadata": {},
   "outputs": [
    {
     "name": "stdout",
     "output_type": "stream",
     "text": [
      "walk\n"
     ]
    }
   ],
   "source": [
    "class Mammal:\n",
    "    def walk(self):\n",
    "        print(\"walk\")\n",
    "\n",
    "class Dog(Mammal):\n",
    "    pass\n",
    "\n",
    "\n",
    "\n",
    "class Cat(Mammal):\n",
    "    pass\n",
    "\n",
    "\n",
    "dog1 = Dog()\n",
    "dog1.walk()"
   ]
  },
  {
   "cell_type": "code",
   "execution_count": 52,
   "id": "a521f573-86d7-4a3c-a28e-c975a2a01d57",
   "metadata": {},
   "outputs": [
    {
     "name": "stdout",
     "output_type": "stream",
     "text": [
      "0.44381986529399153\n",
      "0.7771898488965147\n",
      "0.17304131587374127\n"
     ]
    }
   ],
   "source": [
    "import random\n",
    "\n",
    "for i in range(3):\n",
    "    print(random.random())"
   ]
  },
  {
   "cell_type": "code",
   "execution_count": 55,
   "id": "15f5ee9a-feb8-473a-8508-51963e7a5c08",
   "metadata": {},
   "outputs": [
    {
     "name": "stdout",
     "output_type": "stream",
     "text": [
      "20\n",
      "10\n",
      "13\n"
     ]
    }
   ],
   "source": [
    "import random\n",
    "\n",
    "for i in range(3):\n",
    "    print(random.randint(10, 20))"
   ]
  },
  {
   "cell_type": "code",
   "execution_count": 64,
   "id": "d39d3308-c0d3-4ffc-b72a-eb3a8b413a94",
   "metadata": {
    "jupyter": {
     "source_hidden": true
    }
   },
   "outputs": [
    {
     "name": "stdout",
     "output_type": "stream",
     "text": [
      "Mamma\n"
     ]
    }
   ],
   "source": [
    "import random\n",
    "\n",
    "members = [\"Nico\", \"Fede\", \"Mamma\", \"Papà\"]\n",
    "leader = random.choice(members)\n",
    "print(leader)"
   ]
  },
  {
   "cell_type": "code",
   "execution_count": 74,
   "id": "4f7dd841-2ffa-4083-86d0-3d03ccaae219",
   "metadata": {},
   "outputs": [
    {
     "name": "stdout",
     "output_type": "stream",
     "text": [
      "(1, 3)\n"
     ]
    }
   ],
   "source": [
    "import random\n",
    "\n",
    "class Dice:\n",
    "    def roll(self):\n",
    "        number1 = random.randint(1, 6)\n",
    "        number2 = random.randint(1, 6)\n",
    "        return number1, number2\n",
    "    \n",
    "dice = Dice()\n",
    "print(dice.roll())"
   ]
  },
  {
   "cell_type": "code",
   "execution_count": null,
   "id": "9a53e8e2-3ba7-4e3b-ab1d-e5bf19f314aa",
   "metadata": {},
   "outputs": [],
   "source": []
  },
  {
   "cell_type": "code",
   "execution_count": null,
   "id": "f6b893a2-82d4-4cbe-b8b7-ee1646c27d55",
   "metadata": {},
   "outputs": [],
   "source": []
  }
 ],
 "metadata": {
  "kernelspec": {
   "display_name": "Python (envML)",
   "language": "python",
   "name": "envml"
  },
  "language_info": {
   "codemirror_mode": {
    "name": "ipython",
    "version": 3
   },
   "file_extension": ".py",
   "mimetype": "text/x-python",
   "name": "python",
   "nbconvert_exporter": "python",
   "pygments_lexer": "ipython3",
   "version": "3.10.18"
  }
 },
 "nbformat": 4,
 "nbformat_minor": 5
}
