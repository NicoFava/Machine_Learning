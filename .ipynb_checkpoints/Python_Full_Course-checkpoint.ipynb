{
 "cells": [
  {
   "cell_type": "markdown",
   "id": "6e84052d-0d02-4324-a0ba-c88cab71f44f",
   "metadata": {},
   "source": [
    "# Python Full Course"
   ]
  },
  {
   "cell_type": "markdown",
   "id": "69432820-c76b-4f42-8a7f-c1533d781871",
   "metadata": {},
   "source": [
    "## Inizio"
   ]
  },
  {
   "cell_type": "code",
   "execution_count": 20,
   "id": "1b84ed0b-7b3e-40f9-a4e0-913125f7ca4f",
   "metadata": {},
   "outputs": [
    {
     "name": "stdout",
     "output_type": "stream",
     "text": [
      "Nicolò Favagrossa\n",
      "The history saving thread hit an unexpected error (OperationalError('attempt to write a readonly database')).History will not be written to the database.\n"
     ]
    }
   ],
   "source": [
    "print(\"Nicolò Favagrossa\")"
   ]
  },
  {
   "cell_type": "code",
   "execution_count": 21,
   "id": "2d38436f-ab21-45b7-a08f-38f1245b6d50",
   "metadata": {},
   "outputs": [
    {
     "name": "stdout",
     "output_type": "stream",
     "text": [
      "o----\n",
      " ||||\n"
     ]
    }
   ],
   "source": [
    "print('o----')\n",
    "print (' ||||')"
   ]
  },
  {
   "cell_type": "code",
   "execution_count": 22,
   "id": "0dafa546-e257-4636-a795-88491572d51b",
   "metadata": {},
   "outputs": [
    {
     "name": "stdout",
     "output_type": "stream",
     "text": [
      "**********\n"
     ]
    }
   ],
   "source": [
    "print('*'*10)"
   ]
  },
  {
   "cell_type": "markdown",
   "id": "663f0946-92cd-421a-a615-665df813fc16",
   "metadata": {},
   "source": [
    "## Variabili"
   ]
  },
  {
   "cell_type": "code",
   "execution_count": 23,
   "id": "ac9c3236-f4d3-4280-9061-137390827105",
   "metadata": {},
   "outputs": [],
   "source": [
    "price = 10"
   ]
  },
  {
   "cell_type": "code",
   "execution_count": 24,
   "id": "d9f94fbe-daf5-4718-9446-1c6618364a09",
   "metadata": {},
   "outputs": [
    {
     "name": "stdout",
     "output_type": "stream",
     "text": [
      "10\n"
     ]
    }
   ],
   "source": [
    "print(price)"
   ]
  },
  {
   "cell_type": "code",
   "execution_count": 16,
   "id": "65ed93a3-c171-477c-941d-fd3d41807722",
   "metadata": {},
   "outputs": [
    {
     "name": "stdin",
     "output_type": "stream",
     "text": [
      "Anno di nascita:  2001\n"
     ]
    },
    {
     "name": "stdout",
     "output_type": "stream",
     "text": [
      "<class 'str'>\n",
      "24\n"
     ]
    }
   ],
   "source": [
    "anno_di_nascita = input('Anno di nascita: ')\n",
    "print(type(anno_di_nascita))\n",
    "anni = 2025 - int(anno_di_nascita)\n",
    "print(anni)"
   ]
  },
  {
   "cell_type": "code",
   "execution_count": 25,
   "id": "7b8f7cc6-b1c4-40ee-8b67-9a60c347c5bc",
   "metadata": {},
   "outputs": [
    {
     "name": "stdin",
     "output_type": "stream",
     "text": [
      "Ciao, quanto pesi (in kg)? 70\n"
     ]
    },
    {
     "name": "stdout",
     "output_type": "stream",
     "text": [
      "Perfetto, quindi pesi 70000g\n"
     ]
    }
   ],
   "source": [
    "peso_kg = input('Ciao, quanto pesi (in kg)?' )\n",
    "peso_g = int(peso_kg)*1000\n",
    "print('Perfetto, quindi pesi ' + str(peso_g) + 'g' )"
   ]
  },
  {
   "cell_type": "markdown",
   "id": "ff4e648e-35e9-48ef-85f1-a1567a27d558",
   "metadata": {},
   "source": [
    "## Stringe"
   ]
  },
  {
   "cell_type": "code",
   "execution_count": 26,
   "id": "3180d260-108d-4f2e-ad1f-d0ea71b23d46",
   "metadata": {},
   "outputs": [
    {
     "name": "stdout",
     "output_type": "stream",
     "text": [
      " \n",
      "Ciao come stai?\n",
      "\n",
      "io bene e tu?\n",
      "\n",
      "tutto bene grazie.\n",
      "\n"
     ]
    }
   ],
   "source": [
    "multi_line_string = ''' \n",
    "Ciao come stai?\n",
    "\n",
    "io bene e tu?\n",
    "\n",
    "tutto bene grazie.\n",
    "'''\n",
    "\n",
    "print(multi_line_string)"
   ]
  },
  {
   "cell_type": "code",
   "execution_count": 27,
   "id": "17a3f766-b909-4508-b8c2-dec27e254e4f",
   "metadata": {},
   "outputs": [
    {
     "name": "stdout",
     "output_type": "stream",
     "text": [
      "o\n"
     ]
    }
   ],
   "source": [
    "stringa = 'Ciao come stai?'\n",
    "print(stringa[3])"
   ]
  },
  {
   "cell_type": "code",
   "execution_count": 30,
   "id": "86ca83e0-4486-426f-960e-9fd57f7aab8b",
   "metadata": {},
   "outputs": [
    {
     "name": "stdout",
     "output_type": "stream",
     "text": [
      "Ciao come stai?\n"
     ]
    }
   ],
   "source": [
    "stringa = 'Ciao come stai?'\n",
    "print(stringa[0:])"
   ]
  },
  {
   "cell_type": "code",
   "execution_count": 31,
   "id": "12f56e70-04b3-4175-9d1a-473dc3638ae8",
   "metadata": {},
   "outputs": [
    {
     "name": "stdout",
     "output_type": "stream",
     "text": [
      "come stai?\n"
     ]
    }
   ],
   "source": [
    "stringa = 'Ciao come stai?'\n",
    "print(stringa[5:])"
   ]
  },
  {
   "cell_type": "code",
   "execution_count": 33,
   "id": "321cdd11-48b2-4b12-afe1-82b6114ef8ce",
   "metadata": {},
   "outputs": [
    {
     "name": "stdout",
     "output_type": "stream",
     "text": [
      "iao come stai?\n"
     ]
    }
   ],
   "source": [
    "stringa = 'Ciao come stai?'\n",
    "altra = stringa[1:]\n",
    "print(altra)"
   ]
  },
  {
   "cell_type": "code",
   "execution_count": 34,
   "id": "fc50c3a9-92ab-4f65-b972-4448797f471c",
   "metadata": {},
   "outputs": [
    {
     "name": "stdout",
     "output_type": "stream",
     "text": [
      "icol\n"
     ]
    }
   ],
   "source": [
    "nome = 'Nicolò'\n",
    "print(nome[1:-1])"
   ]
  },
  {
   "cell_type": "code",
   "execution_count": 35,
   "id": "11265215-a98f-4bd6-b266-272167a0fce1",
   "metadata": {},
   "outputs": [
    {
     "name": "stdout",
     "output_type": "stream",
     "text": [
      "Nicolò [Favagrossa] è un grande!\n"
     ]
    }
   ],
   "source": [
    "nome = 'Nicolò'\n",
    "cognome = 'Favagrossa'\n",
    "messaggio = nome + ' [' + cognome + '] è un grande!'\n",
    "print(messaggio)"
   ]
  },
  {
   "cell_type": "code",
   "execution_count": 37,
   "id": "b23be6f7-e35a-4be6-adb1-4c4430d048ac",
   "metadata": {},
   "outputs": [
    {
     "name": "stdout",
     "output_type": "stream",
     "text": [
      "Nicolò [Favagrossa] è un grande!\n",
      "Nicolò [Favagrossa] è un grande!\n"
     ]
    }
   ],
   "source": [
    "nome = 'Nicolò'\n",
    "cognome = 'Favagrossa'\n",
    "messaggio = nome + ' [' + cognome + '] è un grande!'\n",
    "msg = f'{nome} [{cognome}] è un grande!'\n",
    "print(messaggio)\n",
    "print(msg)"
   ]
  },
  {
   "cell_type": "code",
   "execution_count": 38,
   "id": "0e5d668f-04cb-4801-b845-edb03ff2edb7",
   "metadata": {},
   "outputs": [
    {
     "name": "stdout",
     "output_type": "stream",
     "text": [
      "6\n"
     ]
    }
   ],
   "source": [
    "nome = 'Nicolò'\n",
    "print(len(nome))"
   ]
  },
  {
   "cell_type": "code",
   "execution_count": 40,
   "id": "f8343dc1-23d0-4b1e-a64c-fc54a5e1172e",
   "metadata": {},
   "outputs": [
    {
     "name": "stdout",
     "output_type": "stream",
     "text": [
      "6\n",
      "NICOLÒ\n"
     ]
    }
   ],
   "source": [
    "nome = 'Nicolò'\n",
    "print(len(nome))\n",
    "print(nome.upper())"
   ]
  },
  {
   "cell_type": "code",
   "execution_count": 42,
   "id": "7934c5aa-8850-4f13-b3c6-8c1b1e15615b",
   "metadata": {},
   "outputs": [
    {
     "name": "stdout",
     "output_type": "stream",
     "text": [
      "6\n",
      "NICOLÒ\n",
      "nicolò\n"
     ]
    }
   ],
   "source": [
    "nome = 'Nicolò'\n",
    "print(len(nome))\n",
    "print(nome.upper())\n",
    "print(nome.lower())"
   ]
  },
  {
   "cell_type": "code",
   "execution_count": 44,
   "id": "397623b5-e3b8-45ed-89e9-86f27999cabf",
   "metadata": {},
   "outputs": [
    {
     "name": "stdout",
     "output_type": "stream",
     "text": [
      "6\n",
      "NICOLÒ\n",
      "nicolò\n",
      "0\n"
     ]
    }
   ],
   "source": [
    "nome = 'Nicolò'\n",
    "print(len(nome))\n",
    "print(nome.upper())\n",
    "print(nome.lower())\n",
    "print(nome.find('N'))"
   ]
  },
  {
   "cell_type": "code",
   "execution_count": 45,
   "id": "2f8d490d-af25-4424-b867-eaa89f432965",
   "metadata": {},
   "outputs": [
    {
     "name": "stdout",
     "output_type": "stream",
     "text": [
      "6\n",
      "NICOLÒ\n",
      "nicolò\n",
      "0\n",
      "Nicolò è un beginner di python ma un ne sa tanto di c++\n"
     ]
    }
   ],
   "source": [
    "nome = 'Nicolò'\n",
    "stringa = nome + ' è un beginner di python ma un esperto di c++'\n",
    "print(len(nome))\n",
    "print(nome.upper())\n",
    "print(nome.lower())\n",
    "print(nome.find('N'))\n",
    "print(stringa.replace('esperto', 'ne sa tanto'))"
   ]
  },
  {
   "cell_type": "code",
   "execution_count": 48,
   "id": "9835daa2-9083-4071-90c3-9f5db15d51de",
   "metadata": {},
   "outputs": [
    {
     "name": "stdout",
     "output_type": "stream",
     "text": [
      "True\n",
      "6\n",
      "NICOLÒ\n",
      "nicolò\n",
      "0\n",
      "Nicolò è un beginner di python ma un ne sa tanto di c++\n",
      "True\n",
      "Nicolò È Un Beginner Di Python Ma Un Esperto Di C++\n"
     ]
    }
   ],
   "source": [
    "nome = 'Nicolò'\n",
    "stringa = nome + ' è un beginner di python ma un esperto di c++'\n",
    "print('esperto' in stringa)\n",
    "print(len(nome))\n",
    "print(nome.upper())\n",
    "print(nome.lower())\n",
    "print(nome.find('N'))\n",
    "print(stringa.replace('esperto', 'ne sa tanto'))\n",
    "print('esperto' in stringa)\n",
    "print(stringa.title())"
   ]
  },
  {
   "cell_type": "code",
   "execution_count": 49,
   "id": "9793da0e-b2e5-4880-96c1-ac16e8fd051f",
   "metadata": {},
   "outputs": [
    {
     "name": "stdout",
     "output_type": "stream",
     "text": [
      "2.9\n",
      "3\n"
     ]
    }
   ],
   "source": [
    "import math\n",
    "x = 2.9\n",
    "print(abs(-x))\n",
    "print(math.ceil(2.9))"
   ]
  },
  {
   "cell_type": "code",
   "execution_count": 52,
   "id": "9af92b54-7e0f-4f0d-a259-8f67ff0e6599",
   "metadata": {},
   "outputs": [
    {
     "name": "stdout",
     "output_type": "stream",
     "text": [
      "goditi la giornata\n"
     ]
    }
   ],
   "source": [
    "is_hot = False\n",
    "if is_hot:\n",
    "    print(\"è una giornata calda\")\n",
    "print(\"goditi la giornata\")"
   ]
  },
  {
   "cell_type": "code",
   "execution_count": 56,
   "id": "caedc540-d18b-43a6-a8d3-431058cbd50c",
   "metadata": {},
   "outputs": [
    {
     "name": "stdout",
     "output_type": "stream",
     "text": [
      "Down payment: $100000.0\n"
     ]
    }
   ],
   "source": [
    "price = 1000000\n",
    "has_good_credit = True\n",
    "\n",
    "if has_good_credit:\n",
    "    down_payment = 0.1 * price\n",
    "else:\n",
    "    down_payment = 0.2 * price\n",
    "print(f\"Down payment: ${down_payment}\")"
   ]
  },
  {
   "cell_type": "code",
   "execution_count": 59,
   "id": "29446c40-2a04-49d2-b3b3-096491f8aa5c",
   "metadata": {},
   "outputs": [],
   "source": [
    "has_hight_income = False\n",
    "has_good_credit = False\n",
    "\n",
    "if has_good_credit or has_hight_income:\n",
    "    print(\"Bravissimo\")"
   ]
  },
  {
   "cell_type": "code",
   "execution_count": 60,
   "id": "be20a426-c543-45bf-8dd0-3c4802f08d46",
   "metadata": {},
   "outputs": [
    {
     "name": "stdin",
     "output_type": "stream",
     "text": [
      "Temperatura  46\n"
     ]
    },
    {
     "name": "stdout",
     "output_type": "stream",
     "text": [
      "Fa caldo!\n"
     ]
    }
   ],
   "source": [
    "temperatura = input(\"Temperatura \")\n",
    "if int(temperatura) > 30:\n",
    "    print(\"Fa caldo!\")\n",
    "else:\n",
    "    print(\"Si sta bene\")"
   ]
  },
  {
   "cell_type": "code",
   "execution_count": 64,
   "id": "77c160f8-3b34-45b0-8538-e01101f105ab",
   "metadata": {},
   "outputs": [
    {
     "name": "stdin",
     "output_type": "stream",
     "text": [
      "Inserire il tuo nome:  s\n"
     ]
    },
    {
     "name": "stdout",
     "output_type": "stream",
     "text": [
      "Inserire un altro nome!\n"
     ]
    }
   ],
   "source": [
    "name = input(\"Inserire il tuo nome: \")\n",
    "if len(name) < 3 or len(name) >= 50:\n",
    "    print(\"Inserire un altro nome!\")\n",
    "else:\n",
    "    print(\"Il nome va benissimo\")"
   ]
  },
  {
   "cell_type": "code",
   "execution_count": 72,
   "id": "6ad8f769-d54e-4157-8f4f-2a6143fae960",
   "metadata": {},
   "outputs": [
    {
     "name": "stdin",
     "output_type": "stream",
     "text": [
      "Peso: 70\n",
      "(L) o (K)g:  i\n"
     ]
    },
    {
     "name": "stdout",
     "output_type": "stream",
     "text": [
      "Attenzione: inserire unità di misura supportata!\n"
     ]
    }
   ],
   "source": [
    "peso = input('Peso:' )\n",
    "unit = input('(L) o (K)g: ')\n",
    "if unit.upper() == 'L':\n",
    "    peso = float(peso)/2.205\n",
    "    print(f\"Il tuo peso in Kg è di: {peso}Kg\")\n",
    "if unit.upper() == 'K':\n",
    "    peso = float(peso)*2.205\n",
    "    print(f\"Il tuo peso in pounds è di: {peso}L\")\n",
    "else:\n",
    "    print(\"Attenzione: inserire unità di misura supportata!\")"
   ]
  },
  {
   "cell_type": "code",
   "execution_count": 73,
   "id": "1ee4ba19-2559-4624-9f8e-8ee7c452295b",
   "metadata": {},
   "outputs": [
    {
     "name": "stdout",
     "output_type": "stream",
     "text": [
      "1\n",
      "2\n",
      "3\n",
      "4\n",
      "5\n",
      "Done\n"
     ]
    }
   ],
   "source": [
    "i = 1\n",
    "while i <= 5:\n",
    "    print(i)\n",
    "    i = i+1\n",
    "print(\"Done\")"
   ]
  },
  {
   "cell_type": "code",
   "execution_count": 74,
   "id": "2ed305cb-b304-48e7-a19a-a8d3eb88d1b9",
   "metadata": {},
   "outputs": [
    {
     "name": "stdout",
     "output_type": "stream",
     "text": [
      "*\n",
      "**\n",
      "***\n",
      "****\n",
      "*****\n",
      "Done\n"
     ]
    }
   ],
   "source": [
    "i = 1\n",
    "while i <= 5:\n",
    "    print('*'*i)\n",
    "    i = i+1\n",
    "print(\"Done\")"
   ]
  },
  {
   "cell_type": "code",
   "execution_count": 77,
   "id": "77e97e9d-1eab-4b7d-9031-b4aba6827637",
   "metadata": {},
   "outputs": [
    {
     "name": "stdin",
     "output_type": "stream",
     "text": [
      "Guess: 1\n",
      "Guess: 2\n",
      "Guess: \n",
      "Guess: 3\n",
      "Guess: 9\n"
     ]
    },
    {
     "name": "stdout",
     "output_type": "stream",
     "text": [
      "Bravo!\n"
     ]
    }
   ],
   "source": [
    "guess = 0\n",
    "while guess != '9':\n",
    "    guess = input('Guess:' )\n",
    "print('Bravo!')"
   ]
  },
  {
   "cell_type": "code",
   "execution_count": 86,
   "id": "611e65fd-a7e5-4ced-9b64-8b80acaee088",
   "metadata": {},
   "outputs": [
    {
     "name": "stdin",
     "output_type": "stream",
     "text": [
      ">  start\n"
     ]
    },
    {
     "name": "stdout",
     "output_type": "stream",
     "text": [
      "Car started...\n"
     ]
    },
    {
     "name": "stdin",
     "output_type": "stream",
     "text": [
      ">  quit\n"
     ]
    },
    {
     "name": "stdout",
     "output_type": "stream",
     "text": [
      "I don't understand, sorry!\n"
     ]
    }
   ],
   "source": [
    "command = \"\"\n",
    "while command != \"quit\":\n",
    "    command = input(\"> \").lower()\n",
    "    if command == \"start\":\n",
    "        print(\"Car started...\")\n",
    "    elif command == \"stop\":\n",
    "        print(\"Car stopped.\")\n",
    "    elif command == \"help\":\n",
    "        print('''\n",
    "        start - to start the car\n",
    "        stop - to stop the car\n",
    "        quit - to quit\n",
    "        ''')\n",
    "    else:\n",
    "        print(\"I don't understand, sorry!\")"
   ]
  },
  {
   "cell_type": "code",
   "execution_count": 90,
   "id": "028efa63-8d38-4367-b6d0-783bb50a7c0c",
   "metadata": {},
   "outputs": [
    {
     "name": "stdout",
     "output_type": "stream",
     "text": [
      "5\n",
      "7\n",
      "9\n"
     ]
    }
   ],
   "source": [
    "for item in range(5, 10, 2):\n",
    "    print(item)"
   ]
  },
  {
   "cell_type": "code",
   "execution_count": 91,
   "id": "e20676f0-6f23-467a-8070-3048ed5733b3",
   "metadata": {},
   "outputs": [
    {
     "name": "stdout",
     "output_type": "stream",
     "text": [
      "Total: 60$\n"
     ]
    }
   ],
   "source": [
    "prices = [10, 20, 30]\n",
    "total = 0\n",
    "for price in prices:\n",
    "    total +=price\n",
    "print(f\"Total: {total}$\")"
   ]
  },
  {
   "cell_type": "code",
   "execution_count": 92,
   "id": "dc1a0dff-d31f-495f-b930-5593a8aaa83b",
   "metadata": {},
   "outputs": [
    {
     "name": "stdout",
     "output_type": "stream",
     "text": [
      "(0, 0)\n",
      "(0, 1)\n",
      "(0, 2)\n",
      "(1, 0)\n",
      "(1, 1)\n",
      "(1, 2)\n",
      "(2, 0)\n",
      "(2, 1)\n",
      "(2, 2)\n",
      "(3, 0)\n",
      "(3, 1)\n",
      "(3, 2)\n"
     ]
    }
   ],
   "source": [
    "for x in range(4):\n",
    "    for y in range(3):\n",
    "        print(f'({x}, {y})')"
   ]
  },
  {
   "cell_type": "code",
   "execution_count": 93,
   "id": "ff0fe91c-13fd-43e6-a893-983f34c64be3",
   "metadata": {},
   "outputs": [
    {
     "name": "stdout",
     "output_type": "stream",
     "text": [
      "xxxxx\n",
      "xx\n",
      "xxxxx\n",
      "xx\n",
      "xx\n"
     ]
    }
   ],
   "source": [
    "numbers = [5, 2, 5, 2, 2]\n",
    "for i in numbers:\n",
    "    print(\"x\"*numbers[i])"
   ]
  },
  {
   "cell_type": "markdown",
   "id": "59dccf59-06ff-4231-a467-a893329c08dc",
   "metadata": {},
   "source": [
    "2:02:39 - liste 2D o anche dette matrici"
   ]
  },
  {
   "cell_type": "code",
   "execution_count": null,
   "id": "b1f51680-5065-4e07-b32c-6db22c4baf91",
   "metadata": {},
   "outputs": [],
   "source": []
  }
 ],
 "metadata": {
  "kernelspec": {
   "display_name": "Python (envML)",
   "language": "python",
   "name": "envml"
  },
  "language_info": {
   "codemirror_mode": {
    "name": "ipython",
    "version": 3
   },
   "file_extension": ".py",
   "mimetype": "text/x-python",
   "name": "python",
   "nbconvert_exporter": "python",
   "pygments_lexer": "ipython3",
   "version": "3.10.18"
  }
 },
 "nbformat": 4,
 "nbformat_minor": 5
}
