{
 "cells": [
  {
   "cell_type": "markdown",
   "id": "6b439c8a-65b2-4230-8794-2d5fd3f746c1",
   "metadata": {},
   "source": [
    "# Primi passi in Python e librerie per la gestione dei dati e per il Machine Learning"
   ]
  },
  {
   "cell_type": "markdown",
   "id": "e7e67bc8-b238-48f1-98b7-e75536dce20f",
   "metadata": {},
   "source": [
    "## Introduzione"
   ]
  },
  {
   "cell_type": "markdown",
   "id": "47bbf176-242f-4d50-b853-a2bf1d2ce3f6",
   "metadata": {},
   "source": [
    "In questo primo Notebook voglio imparare ad utilizzare questo strumento e le mie capacità a programmare con phyton."
   ]
  },
  {
   "cell_type": "code",
   "execution_count": null,
   "id": "698c06aa-5991-4140-aa09-ead51abea466",
   "metadata": {},
   "outputs": [],
   "source": []
  }
 ],
 "metadata": {
  "kernelspec": {
   "display_name": "Python 3 (ipykernel)",
   "language": "python",
   "name": "python3"
  },
  "language_info": {
   "codemirror_mode": {
    "name": "ipython",
    "version": 3
   },
   "file_extension": ".py",
   "mimetype": "text/x-python",
   "name": "python",
   "nbconvert_exporter": "python",
   "pygments_lexer": "ipython3",
   "version": "3.12.3"
  }
 },
 "nbformat": 4,
 "nbformat_minor": 5
}
