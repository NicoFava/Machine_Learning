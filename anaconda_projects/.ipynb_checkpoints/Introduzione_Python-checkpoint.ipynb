{
 "cells": [
  {
   "cell_type": "markdown",
   "id": "cc96f1ec-11ce-4eb1-8d5b-4d9954b662a8",
   "metadata": {},
   "source": [
    "# Inroduzione di Python"
   ]
  },
  {
   "cell_type": "markdown",
   "id": "27ff22c1-b377-4b4e-a090-5b14af984ff7",
   "metadata": {},
   "source": [
    "In questo file verranno inseriti per lo più esempi pratici in quanto nella mia esperienza è già presente una profonda conoscienza di c++. Di conseguenza il mio obiettivo è imparare il solo lessico."
   ]
  },
  {
   "cell_type": "markdown",
   "id": "17632f71-3686-4327-9984-f10ba32bf3b2",
   "metadata": {},
   "source": [
    "## Phython è un interprete interattivo"
   ]
  },
  {
   "cell_type": "markdown",
   "id": "5e150a73-e6a4-46ea-9db7-197a33ead791",
   "metadata": {},
   "source": []
  }
 ],
 "metadata": {
  "kernelspec": {
   "display_name": "Python 3 (ipykernel)",
   "language": "python",
   "name": "python3"
  },
  "language_info": {
   "codemirror_mode": {
    "name": "ipython",
    "version": 3
   },
   "file_extension": ".py",
   "mimetype": "text/x-python",
   "name": "python",
   "nbconvert_exporter": "python",
   "pygments_lexer": "ipython3",
   "version": "3.12.3"
  }
 },
 "nbformat": 4,
 "nbformat_minor": 5
}
